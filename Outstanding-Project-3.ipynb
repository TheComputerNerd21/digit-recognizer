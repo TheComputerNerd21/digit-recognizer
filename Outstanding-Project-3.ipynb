{
 "cells": [
  {
   "cell_type": "code",
   "execution_count": 1,
   "metadata": {},
   "outputs": [],
   "source": [
    "# Madhosh Yagnik\n",
    "# Outstanding project 3"
   ]
  },
  {
   "cell_type": "code",
   "execution_count": 2,
   "metadata": {},
   "outputs": [
    {
     "name": "stdout",
     "output_type": "stream",
     "text": [
      "Requirement already satisfied: opencv-python in ./anaconda3/lib/python3.8/site-packages (4.4.0.44)\n",
      "Requirement already satisfied: numpy>=1.17.3 in ./anaconda3/lib/python3.8/site-packages (from opencv-python) (1.18.5)\n",
      "Requirement already satisfied: imutils in ./anaconda3/lib/python3.8/site-packages (0.5.3)\n"
     ]
    }
   ],
   "source": [
    "!pip3 install opencv-python\n",
    "!pip install imutils\n",
    "import cv2 \n",
    "import imutils "
   ]
  },
  {
   "cell_type": "code",
   "execution_count": 3,
   "metadata": {},
   "outputs": [],
   "source": [
    "hog = cv2.HOGDescriptor() \n",
    "hog.setSVMDetector(cv2.HOGDescriptor_getDefaultPeopleDetector()) \n",
    "    \n",
    "image = cv2.imread('free-to-use-sounds-cPff4WBQDkM-unsplash.jpg')"
   ]
  },
  {
   "cell_type": "code",
   "execution_count": 4,
   "metadata": {},
   "outputs": [],
   "source": [
    "image = imutils.resize(image, \n",
    "                       width=min(400, image.shape[1])) "
   ]
  },
  {
   "cell_type": "code",
   "execution_count": null,
   "metadata": {},
   "outputs": [],
   "source": [
    "(regions, _) = hog.detectMultiScale(image,  \n",
    "                                    winStride=(4, 4), \n",
    "                                    padding=(4, 4), \n",
    "                                    scale=1.05) \n",
    "   \n",
    "for (x, y, w, h) in regions: \n",
    "    cv2.rectangle(image, (x, y),  \n",
    "                  (x + w, y + h),  \n",
    "                  (0, 0, 255), 2) \n",
    "  \n",
    "cv2.imshow(\"Image\", image) \n",
    "cv2.waitKey(0) \n",
    "   \n",
    "cv2.destroyAllWindows() \n"
   ]
  }
 ],
 "metadata": {
  "kernelspec": {
   "display_name": "Python 3",
   "language": "python",
   "name": "python3"
  },
  "language_info": {
   "codemirror_mode": {
    "name": "ipython",
    "version": 3
   },
   "file_extension": ".py",
   "mimetype": "text/x-python",
   "name": "python",
   "nbconvert_exporter": "python",
   "pygments_lexer": "ipython3",
   "version": "3.8.3"
  }
 },
 "nbformat": 4,
 "nbformat_minor": 4
}
